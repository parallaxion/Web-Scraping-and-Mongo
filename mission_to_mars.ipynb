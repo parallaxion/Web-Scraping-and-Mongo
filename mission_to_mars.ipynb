{
 "cells": [
  {
   "cell_type": "code",
   "execution_count": 1,
   "metadata": {
    "collapsed": true
   },
   "outputs": [],
   "source": [
    "import pandas as pd\n",
    "import numpy as np\n",
    "import time\n",
    "import urllib\n",
    "import requests\n",
    "from splinter import Browser\n",
    "from bs4 import BeautifulSoup\n",
    "import time"
   ]
  },
  {
   "cell_type": "code",
   "execution_count": 2,
   "metadata": {
    "collapsed": true
   },
   "outputs": [],
   "source": [
    "executable_path = {'executable_path': 'chromedriver.exe'}\n",
    "browser = Browser('chrome', **executable_path, headless=False)\n",
    "\n",
    "target = \"https://mars.nasa.gov/news/\""
   ]
  },
  {
   "cell_type": "code",
   "execution_count": 3,
   "metadata": {
    "collapsed": true
   },
   "outputs": [],
   "source": [
    "response = requests.get(target)"
   ]
  },
  {
   "cell_type": "code",
   "execution_count": 4,
   "metadata": {},
   "outputs": [
    {
     "name": "stdout",
     "output_type": "stream",
     "text": [
      "<Response [200]>\n"
     ]
    }
   ],
   "source": [
    "print(response)"
   ]
  },
  {
   "cell_type": "code",
   "execution_count": 5,
   "metadata": {},
   "outputs": [
    {
     "name": "stdout",
     "output_type": "stream",
     "text": [
      "https://mars.nasa.gov/news/\n"
     ]
    }
   ],
   "source": [
    "url = target\n",
    "browser.visit(url)\n",
    "print(url)\n",
    "html = browser.html\n",
    "soup = BeautifulSoup(html, 'html.parser')\n",
    "slides = soup.find_all(\"div\", {\"class\":\"list_text\"}) #summary-sale-item-price-retail (for suggested retail)\n"
   ]
  },
  {
   "cell_type": "code",
   "execution_count": 6,
   "metadata": {},
   "outputs": [
    {
     "name": "stdout",
     "output_type": "stream",
     "text": [
      "NASA's InSight Places First Instrument on Mars\n",
      "In deploying its first instrument onto the surface of Mars, the lander completes a major mission milestone.\n"
     ]
    }
   ],
   "source": [
    "for slide in slides:\n",
    "    #print(slide)\n",
    "    ct = soup.find(\"div\", {\"class\":\"content_title\"})\n",
    "    print(ct.text)\n",
    "    news_title = ct.text\n",
    "    atb = soup.find(\"div\", {\"class\":\"article_teaser_body\"})\n",
    "    print(atb.text)\n",
    "    new_p = atb.text\n",
    "    break;"
   ]
  },
  {
   "cell_type": "code",
   "execution_count": 7,
   "metadata": {
    "collapsed": true
   },
   "outputs": [],
   "source": [
    "jplimage= \"https://www.jpl.nasa.gov/spaceimages/?search=&category=Mars\""
   ]
  },
  {
   "cell_type": "code",
   "execution_count": 8,
   "metadata": {},
   "outputs": [
    {
     "name": "stdout",
     "output_type": "stream",
     "text": [
      "https://www.jpl.nasa.gov/spaceimages/?search=&category=Mars\n"
     ]
    }
   ],
   "source": [
    "url = jplimage\n",
    "print(url)\n",
    "browser.visit(url)\n",
    "html = browser.html\n",
    "soup = BeautifulSoup(html, 'html.parser')\n",
    "slides = soup.find_all(\"article\") #summary-sale-item-price-retail (for suggested retail)\n"
   ]
  },
  {
   "cell_type": "code",
   "execution_count": 9,
   "metadata": {},
   "outputs": [
    {
     "name": "stdout",
     "output_type": "stream",
     "text": [
      "background-image: url('/spaceimages/images/wallpaper/PIA18846-1920x1200.jpg');\n",
      "<a class=\"button fancybox\" data-description=\"A small galaxy, called Sextans A, is shown here in a multi-wavelength mosaic captured by the ESA's Herschel mission. In this image, the purple shows gas; blue shows young stars and the orange and yellow dots are newly formed stars heating up dust.\" data-fancybox-group=\"images\" data-fancybox-href=\"/spaceimages/images/mediumsize/PIA18846_ip.jpg\" data-link=\"/spaceimages/details.php?id=PIA18846\" data-title=\"Sluggish Galaxy Grows Stars Slowly\" id=\"full_image\">\n",
      "\t\t\t\t\tFULL IMAGE\n",
      "\t\t\t\t  </a>\n",
      "/spaceimages/images/mediumsize/PIA18846_ip.jpg\n"
     ]
    }
   ],
   "source": [
    "for x in slides:\n",
    "    print(x['style'])\n",
    "    imgURL = soup.find(\"a\", {\"class\":\"button fancybox\"})\n",
    "    print(imgURL)\n",
    "    print(imgURL['data-fancybox-href'])\n",
    "    feature_image_url = 'https://www.jpl.nasa.gov' + imgURL['data-fancybox-href']"
   ]
  },
  {
   "cell_type": "code",
   "execution_count": 10,
   "metadata": {},
   "outputs": [
    {
     "data": {
      "text/plain": [
       "'https://www.jpl.nasa.gov/spaceimages/images/mediumsize/PIA18846_ip.jpg'"
      ]
     },
     "execution_count": 10,
     "metadata": {},
     "output_type": "execute_result"
    }
   ],
   "source": [
    "feature_image_url"
   ]
  },
  {
   "cell_type": "code",
   "execution_count": 11,
   "metadata": {
    "collapsed": true
   },
   "outputs": [],
   "source": [
    "twitter = \"https://twitter.com/marswxreport?lang=en\""
   ]
  },
  {
   "cell_type": "code",
   "execution_count": 12,
   "metadata": {},
   "outputs": [
    {
     "name": "stdout",
     "output_type": "stream",
     "text": [
      "https://twitter.com/marswxreport?lang=en\n",
      "Sol 2280 (2019-01-04), high -9C/15F, low -71C/-95F, pressure at 8.34 hPa, daylight 06:44-18:55\n"
     ]
    }
   ],
   "source": [
    "url = twitter\n",
    "browser.visit(url)\n",
    "print(url)\n",
    "html = browser.html\n",
    "soup = BeautifulSoup(html, 'html.parser')\n",
    "slides = soup.find(\"p\", {\"class\":\"TweetTextSize TweetTextSize--normal js-tweet-text tweet-text\"}) #summary-sale-item-price-retail (for suggested retail)\n",
    "print(slides.text)\n",
    "mars_weather = slides.text"
   ]
  },
  {
   "cell_type": "code",
   "execution_count": 13,
   "metadata": {},
   "outputs": [
    {
     "name": "stdout",
     "output_type": "stream",
     "text": [
      "[{\"0\":\"Equatorial Diameter:\",\"1\":\"6,792 km\"},{\"0\":\"Polar Diameter:\",\"1\":\"6,752 km\"},{\"0\":\"Mass:\",\"1\":\"6.42 x 10^23 kg (10.7% Earth)\"},{\"0\":\"Moons:\",\"1\":\"2 (Phobos & Deimos)\"},{\"0\":\"Orbit Distance:\",\"1\":\"227,943,824 km (1.52 AU)\"},{\"0\":\"Orbit Period:\",\"1\":\"687 days (1.9 years)\"},{\"0\":\"Surface Temperature:\",\"1\":\"-153 to 20 \\u00b0C\"},{\"0\":\"First Record:\",\"1\":\"2nd millennium BC\"},{\"0\":\"Recorded By:\",\"1\":\"Egyptian astronomers\"}]\n"
     ]
    }
   ],
   "source": [
    "res = requests.get(\"https://space-facts.com/mars/\")\n",
    "soup = BeautifulSoup(res.content,'lxml')\n",
    "table = soup.find_all('table')[0] \n",
    "df = pd.read_html(str(table))\n",
    "print(df[0].to_json(orient='records'))\n",
    "mars_facts = df[0].to_html"
   ]
  },
  {
   "cell_type": "code",
   "execution_count": 14,
   "metadata": {},
   "outputs": [
    {
     "data": {
      "text/plain": [
       "<bound method DataFrame.to_html of                       0                              1\n",
       "0  Equatorial Diameter:                       6,792 km\n",
       "1       Polar Diameter:                       6,752 km\n",
       "2                 Mass:  6.42 x 10^23 kg (10.7% Earth)\n",
       "3                Moons:            2 (Phobos & Deimos)\n",
       "4       Orbit Distance:       227,943,824 km (1.52 AU)\n",
       "5         Orbit Period:           687 days (1.9 years)\n",
       "6  Surface Temperature:                  -153 to 20 °C\n",
       "7         First Record:              2nd millennium BC\n",
       "8          Recorded By:           Egyptian astronomers>"
      ]
     },
     "execution_count": 14,
     "metadata": {},
     "output_type": "execute_result"
    }
   ],
   "source": [
    "mars_facts"
   ]
  },
  {
   "cell_type": "code",
   "execution_count": 15,
   "metadata": {
    "collapsed": true
   },
   "outputs": [],
   "source": [
    "hemi = \"https://astrogeology.usgs.gov/search/results?q=hemisphere+enhanced&k1=target&v1=Mars\""
   ]
  },
  {
   "cell_type": "code",
   "execution_count": 16,
   "metadata": {},
   "outputs": [
    {
     "name": "stdout",
     "output_type": "stream",
     "text": [
      "https://astrogeology.usgs.gov/search/results?q=hemisphere+enhanced&k1=target&v1=Mars\n"
     ]
    }
   ],
   "source": [
    "url = hemi\n",
    "browser.visit(url)\n",
    "print(url)\n",
    "html = browser.html\n",
    "soup = BeautifulSoup(html, 'html.parser')\n",
    "slides = soup.find_all(\"div\") #summary-sale-item-price-retail (for suggested retail)\n",
    "####### THIS SERVICE IS DOWN ##########"
   ]
  },
  {
   "cell_type": "code",
   "execution_count": 17,
   "metadata": {
    "collapsed": true
   },
   "outputs": [],
   "source": [
    "#homework inst url: https://wustl.bootcampcontent.com/wustl-bootcamp/WASHSTL201809DATA3/tree/master/12-Web-Scraping-and-Document-Databases/Homework/Instructions"
   ]
  },
  {
   "cell_type": "code",
   "execution_count": null,
   "metadata": {
    "collapsed": true
   },
   "outputs": [],
   "source": []
  }
 ],
 "metadata": {
  "kernelspec": {
   "display_name": "Python 3",
   "language": "python",
   "name": "python3"
  },
  "language_info": {
   "codemirror_mode": {
    "name": "ipython",
    "version": 3
   },
   "file_extension": ".py",
   "mimetype": "text/x-python",
   "name": "python",
   "nbconvert_exporter": "python",
   "pygments_lexer": "ipython3",
   "version": "3.6.2"
  }
 },
 "nbformat": 4,
 "nbformat_minor": 2
}
